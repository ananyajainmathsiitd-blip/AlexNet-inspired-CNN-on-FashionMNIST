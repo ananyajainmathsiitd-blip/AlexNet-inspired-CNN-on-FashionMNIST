{
  "cells": [
    {
      "cell_type": "code",
      "execution_count": null,
      "metadata": {
        "id": "K27h3TqRex4S"
      },
      "outputs": [],
      "source": [
        "import torch\n",
        "import torch.nn as nn\n",
        "import torchvision.transforms as transforms\n",
        "import torchvision\n",
        "from torch.utils.data import random_split, DataLoader, TensorDataset\n",
        "import matplotlib.pyplot as plt\n",
        "import torch.nn.functional as F\n"
      ]
    },
    {
      "cell_type": "code",
      "execution_count": null,
      "metadata": {
        "id": "Wg1pRpu5gMUG"
      },
      "outputs": [],
      "source": [
        "#Set device\n",
        "device = torch.device('cuda' if torch.cuda.is_available() else 'cpu')\n"
      ]
    },
    {
      "cell_type": "code",
      "execution_count": null,
      "metadata": {
        "colab": {
          "base_uri": "https://localhost:8080/"
        },
        "id": "SE8XpRs4gRUb",
        "outputId": "c07dc12e-1e9b-4bed-8f05-c5b82d52434c"
      },
      "outputs": [
        {
          "name": "stderr",
          "output_type": "stream",
          "text": [
            "100%|██████████| 26.4M/26.4M [00:02<00:00, 10.2MB/s]\n",
            "100%|██████████| 29.5k/29.5k [00:00<00:00, 168kB/s]\n",
            "100%|██████████| 4.42M/4.42M [00:01<00:00, 3.18MB/s]\n",
            "100%|██████████| 5.15k/5.15k [00:00<00:00, 27.0MB/s]\n"
          ]
        }
      ],
      "source": [
        "#load dataset and split into training and validation 0.8:0.2\n",
        "dataset = torchvision.datasets.FashionMNIST(root='./data',train=True,transform=transforms.ToTensor(),download=True)\n",
        "test_dataset = torchvision.datasets.FashionMNIST(root='./data',train=False,transform=transforms.ToTensor())\n",
        "tsize = int(0.8*len(dataset))\n",
        "vsize = len(dataset)-tsize\n",
        "train_dataset,val_dataset = random_split(dataset,[tsize,vsize])\n"
      ]
    },
    {
      "cell_type": "code",
      "execution_count": null,
      "metadata": {
        "id": "cyPr11y8KLLK"
      },
      "outputs": [],
      "source": []
    },
    {
      "cell_type": "code",
      "execution_count": null,
      "metadata": {
        "id": "lvqe3efMq-MB"
      },
      "outputs": [],
      "source": [
        "\n",
        "train_loader = DataLoader(train_dataset,batch_size=100,shuffle=True)\n",
        "val_loader = DataLoader(val_dataset,batch_size=100,shuffle=False)\n",
        "test_loader = DataLoader(test_dataset,batch_size=100,shuffle=False)\n"
      ]
    },
    {
      "cell_type": "code",
      "execution_count": null,
      "metadata": {
        "id": "88eZS1k4kXZO"
      },
      "outputs": [],
      "source": [
        "#define module\n",
        "class net(nn.Module):\n",
        "  def __init__(self):\n",
        "    super(net,self).__init__()\n",
        "    self.conv1 = nn.Conv2d(in_channels=1, out_channels=32, kernel_size=3)\n",
        "    self.pool = nn.MaxPool2d(kernel_size=2,stride=2)\n",
        "    self.conv2 = nn.Conv2d(32,64, kernel_size=3)\n",
        "    self.conv3 = nn.Conv2d(64,128, kernel_size=3)\n",
        "    self.fc1 = nn.Linear(128 , 64)\n",
        "    self.dropout = nn.Dropout(0.5)\n",
        "    self.fc2 = nn.Linear(64, 10)\n",
        "\n",
        "  def forward(self,x):\n",
        "    x = self.pool(F.relu(self.conv1(x)))\n",
        "    x = self.pool(F.relu(self.conv2(x)))\n",
        "    x = self.pool(F.relu(self.conv3(x)))\n",
        "\n",
        "    x = torch.flatten(x,1)\n",
        "\n",
        "    x = F.relu(self.fc1(x))\n",
        "    x = self.dropout(x)\n",
        "    x = self.fc2(x)\n",
        "    return x\n",
        "\n",
        "\n"
      ]
    },
    {
      "cell_type": "code",
      "execution_count": null,
      "metadata": {
        "id": "Zj2GW_gPgWyN"
      },
      "outputs": [],
      "source": [
        "#hyperparameters\n",
        "isize = 784\n",
        "epochs = 40\n",
        "batch = 100\n",
        "lr = 0.001"
      ]
    },
    {
      "cell_type": "code",
      "execution_count": null,
      "metadata": {
        "id": "RMRDurzYgYGb"
      },
      "outputs": [],
      "source": [
        "\n",
        "#training loop\n",
        "model = net().to(device)\n",
        "criterion = nn.CrossEntropyLoss()\n",
        "optimizer = torch.optim.Adam(model.parameters(),lr=lr)\n"
      ]
    },
    {
      "cell_type": "code",
      "execution_count": null,
      "metadata": {
        "colab": {
          "base_uri": "https://localhost:8080/",
          "height": 1000
        },
        "id": "zbdBpYfdsaSF",
        "outputId": "41f374be-8d3f-4076-b735-3e9d166f288b"
      },
      "outputs": [
        {
          "name": "stdout",
          "output_type": "stream",
          "text": [
            "Epoch [1/40], Step [100/480], Loss: 1.2127\n",
            "Epoch [1/40], Step [200/480], Loss: 0.9650\n",
            "Epoch [1/40], Step [300/480], Loss: 0.8003\n",
            "Epoch [1/40], Step [400/480], Loss: 0.8041\n",
            "Saved best model at epoch 0 with val loss 0.7038\n",
            "Epoch [2/40], Step [100/480], Loss: 0.4880\n",
            "Epoch [2/40], Step [200/480], Loss: 0.6156\n",
            "Epoch [2/40], Step [300/480], Loss: 0.6094\n",
            "Epoch [2/40], Step [400/480], Loss: 0.6197\n",
            "Saved best model at epoch 1 with val loss 0.6099\n",
            "Epoch [3/40], Step [100/480], Loss: 0.7448\n",
            "Epoch [3/40], Step [200/480], Loss: 0.5649\n",
            "Epoch [3/40], Step [300/480], Loss: 0.6048\n",
            "Epoch [3/40], Step [400/480], Loss: 0.5294\n",
            "Saved best model at epoch 2 with val loss 0.5466\n",
            "Epoch [4/40], Step [100/480], Loss: 0.6270\n",
            "Epoch [4/40], Step [200/480], Loss: 0.4893\n",
            "Epoch [4/40], Step [300/480], Loss: 0.3200\n",
            "Epoch [4/40], Step [400/480], Loss: 0.5275\n",
            "Saved best model at epoch 3 with val loss 0.5110\n",
            "Epoch [5/40], Step [100/480], Loss: 0.4158\n",
            "Epoch [5/40], Step [200/480], Loss: 0.5285\n",
            "Epoch [5/40], Step [300/480], Loss: 0.3898\n",
            "Epoch [5/40], Step [400/480], Loss: 0.4340\n",
            "Saved best model at epoch 4 with val loss 0.4880\n",
            "Epoch [6/40], Step [100/480], Loss: 0.5872\n",
            "Epoch [6/40], Step [200/480], Loss: 0.3872\n",
            "Epoch [6/40], Step [300/480], Loss: 0.5056\n",
            "Epoch [6/40], Step [400/480], Loss: 0.3645\n",
            "Saved best model at epoch 5 with val loss 0.4495\n",
            "Epoch [7/40], Step [100/480], Loss: 0.4053\n",
            "Epoch [7/40], Step [200/480], Loss: 0.3818\n",
            "Epoch [7/40], Step [300/480], Loss: 0.2544\n",
            "Epoch [7/40], Step [400/480], Loss: 0.3964\n",
            "Saved best model at epoch 6 with val loss 0.4337\n",
            "Epoch [8/40], Step [100/480], Loss: 0.3318\n",
            "Epoch [8/40], Step [200/480], Loss: 0.2808\n",
            "Epoch [8/40], Step [300/480], Loss: 0.4089\n",
            "Epoch [8/40], Step [400/480], Loss: 0.3828\n",
            "Saved best model at epoch 7 with val loss 0.4185\n",
            "Epoch [9/40], Step [100/480], Loss: 0.3900\n",
            "Epoch [9/40], Step [200/480], Loss: 0.4943\n",
            "Epoch [9/40], Step [300/480], Loss: 0.3801\n",
            "Epoch [9/40], Step [400/480], Loss: 0.4539\n",
            "Saved best model at epoch 8 with val loss 0.3965\n",
            "Epoch [10/40], Step [100/480], Loss: 0.2457\n",
            "Epoch [10/40], Step [200/480], Loss: 0.3389\n",
            "Epoch [10/40], Step [300/480], Loss: 0.3175\n",
            "Epoch [10/40], Step [400/480], Loss: 0.4135\n",
            "Saved best model at epoch 9 with val loss 0.3908\n",
            "Epoch [11/40], Step [100/480], Loss: 0.3901\n",
            "Epoch [11/40], Step [200/480], Loss: 0.2694\n",
            "Epoch [11/40], Step [300/480], Loss: 0.4280\n",
            "Epoch [11/40], Step [400/480], Loss: 0.3338\n",
            "Saved best model at epoch 10 with val loss 0.3806\n",
            "Epoch [12/40], Step [100/480], Loss: 0.3622\n",
            "Epoch [12/40], Step [200/480], Loss: 0.3597\n",
            "Epoch [12/40], Step [300/480], Loss: 0.3277\n",
            "Epoch [12/40], Step [400/480], Loss: 0.2338\n",
            "Saved best model at epoch 11 with val loss 0.3731\n",
            "Epoch [13/40], Step [100/480], Loss: 0.3898\n",
            "Epoch [13/40], Step [200/480], Loss: 0.2538\n",
            "Epoch [13/40], Step [300/480], Loss: 0.3370\n",
            "Epoch [13/40], Step [400/480], Loss: 0.3318\n",
            "Saved best model at epoch 12 with val loss 0.3729\n",
            "Epoch [14/40], Step [100/480], Loss: 0.3379\n",
            "Epoch [14/40], Step [200/480], Loss: 0.3060\n",
            "Epoch [14/40], Step [300/480], Loss: 0.3985\n",
            "Epoch [14/40], Step [400/480], Loss: 0.2561\n",
            "Saved best model at epoch 13 with val loss 0.3700\n",
            "Epoch [15/40], Step [100/480], Loss: 0.1748\n",
            "Epoch [15/40], Step [200/480], Loss: 0.2897\n",
            "Epoch [15/40], Step [300/480], Loss: 0.2770\n",
            "Epoch [15/40], Step [400/480], Loss: 0.2809\n",
            "Epoch [16/40], Step [100/480], Loss: 0.2850\n",
            "Epoch [16/40], Step [200/480], Loss: 0.2798\n",
            "Epoch [16/40], Step [300/480], Loss: 0.4194\n",
            "Epoch [16/40], Step [400/480], Loss: 0.4313\n",
            "Saved best model at epoch 15 with val loss 0.3629\n",
            "Epoch [17/40], Step [100/480], Loss: 0.2565\n",
            "Epoch [17/40], Step [200/480], Loss: 0.3152\n",
            "Epoch [17/40], Step [300/480], Loss: 0.2167\n",
            "Epoch [17/40], Step [400/480], Loss: 0.3280\n",
            "Saved best model at epoch 16 with val loss 0.3565\n",
            "Epoch [18/40], Step [100/480], Loss: 0.1631\n",
            "Epoch [18/40], Step [200/480], Loss: 0.2659\n",
            "Epoch [18/40], Step [300/480], Loss: 0.2678\n",
            "Epoch [18/40], Step [400/480], Loss: 0.2700\n",
            "Epoch [19/40], Step [100/480], Loss: 0.2491\n",
            "Epoch [19/40], Step [200/480], Loss: 0.2649\n",
            "Epoch [19/40], Step [300/480], Loss: 0.1911\n",
            "Epoch [19/40], Step [400/480], Loss: 0.3117\n",
            "Saved best model at epoch 18 with val loss 0.3563\n",
            "Epoch [20/40], Step [100/480], Loss: 0.2351\n",
            "Epoch [20/40], Step [200/480], Loss: 0.2034\n",
            "Epoch [20/40], Step [300/480], Loss: 0.2431\n",
            "Epoch [20/40], Step [400/480], Loss: 0.2439\n",
            "Epoch [21/40], Step [100/480], Loss: 0.2472\n",
            "Epoch [21/40], Step [200/480], Loss: 0.2174\n",
            "Epoch [21/40], Step [300/480], Loss: 0.2050\n",
            "Epoch [21/40], Step [400/480], Loss: 0.2273\n",
            "Epoch [22/40], Step [100/480], Loss: 0.1579\n",
            "Epoch [22/40], Step [200/480], Loss: 0.2001\n",
            "Epoch [22/40], Step [300/480], Loss: 0.2034\n",
            "Epoch [22/40], Step [400/480], Loss: 0.2335\n",
            "Saved best model at epoch 21 with val loss 0.3488\n",
            "Epoch [23/40], Step [100/480], Loss: 0.1995\n",
            "Epoch [23/40], Step [200/480], Loss: 0.1824\n",
            "Epoch [23/40], Step [300/480], Loss: 0.3010\n",
            "Epoch [23/40], Step [400/480], Loss: 0.1698\n",
            "Epoch [24/40], Step [100/480], Loss: 0.1582\n",
            "Epoch [24/40], Step [200/480], Loss: 0.1794\n",
            "Epoch [24/40], Step [300/480], Loss: 0.2898\n",
            "Epoch [24/40], Step [400/480], Loss: 0.2715\n",
            "Epoch [25/40], Step [100/480], Loss: 0.2097\n",
            "Epoch [25/40], Step [200/480], Loss: 0.2482\n",
            "Epoch [25/40], Step [300/480], Loss: 0.1503\n",
            "Epoch [25/40], Step [400/480], Loss: 0.2906\n",
            "Epoch [26/40], Step [100/480], Loss: 0.1458\n",
            "Epoch [26/40], Step [200/480], Loss: 0.1787\n",
            "Epoch [26/40], Step [300/480], Loss: 0.2584\n",
            "Epoch [26/40], Step [400/480], Loss: 0.1638\n",
            "Epoch [27/40], Step [100/480], Loss: 0.2189\n",
            "Epoch [27/40], Step [200/480], Loss: 0.1689\n",
            "Epoch [27/40], Step [300/480], Loss: 0.1906\n",
            "Epoch [27/40], Step [400/480], Loss: 0.1852\n",
            "Epoch [28/40], Step [100/480], Loss: 0.2181\n",
            "Epoch [28/40], Step [200/480], Loss: 0.1684\n",
            "Epoch [28/40], Step [300/480], Loss: 0.1139\n",
            "Epoch [28/40], Step [400/480], Loss: 0.1739\n",
            "Epoch [29/40], Step [100/480], Loss: 0.1613\n",
            "Epoch [29/40], Step [200/480], Loss: 0.1191\n",
            "Epoch [29/40], Step [300/480], Loss: 0.2192\n",
            "Epoch [29/40], Step [400/480], Loss: 0.2274\n",
            "Epoch [30/40], Step [100/480], Loss: 0.1493\n",
            "Epoch [30/40], Step [200/480], Loss: 0.3834\n",
            "Epoch [30/40], Step [300/480], Loss: 0.1398\n",
            "Epoch [30/40], Step [400/480], Loss: 0.1589\n",
            "Epoch [31/40], Step [100/480], Loss: 0.2988\n",
            "Epoch [31/40], Step [200/480], Loss: 0.1075\n",
            "Epoch [31/40], Step [300/480], Loss: 0.1552\n",
            "Epoch [31/40], Step [400/480], Loss: 0.2179\n",
            "Epoch [32/40], Step [100/480], Loss: 0.0994\n",
            "Epoch [32/40], Step [200/480], Loss: 0.1435\n",
            "Epoch [32/40], Step [300/480], Loss: 0.0936\n",
            "Epoch [32/40], Step [400/480], Loss: 0.1717\n",
            "Epoch [33/40], Step [100/480], Loss: 0.0783\n",
            "Epoch [33/40], Step [200/480], Loss: 0.1756\n",
            "Epoch [33/40], Step [300/480], Loss: 0.1987\n",
            "Epoch [33/40], Step [400/480], Loss: 0.1159\n",
            "Epoch [34/40], Step [100/480], Loss: 0.2046\n",
            "Epoch [34/40], Step [200/480], Loss: 0.1445\n",
            "Epoch [34/40], Step [300/480], Loss: 0.1899\n",
            "Epoch [34/40], Step [400/480], Loss: 0.1514\n",
            "Epoch [35/40], Step [100/480], Loss: 0.0917\n",
            "Epoch [35/40], Step [200/480], Loss: 0.1220\n",
            "Epoch [35/40], Step [300/480], Loss: 0.1261\n",
            "Epoch [35/40], Step [400/480], Loss: 0.1200\n",
            "Epoch [36/40], Step [100/480], Loss: 0.1969\n",
            "Epoch [36/40], Step [200/480], Loss: 0.1148\n",
            "Epoch [36/40], Step [300/480], Loss: 0.1409\n",
            "Epoch [36/40], Step [400/480], Loss: 0.1984\n",
            "Epoch [37/40], Step [100/480], Loss: 0.0931\n",
            "Epoch [37/40], Step [200/480], Loss: 0.1538\n",
            "Epoch [37/40], Step [300/480], Loss: 0.1890\n",
            "Epoch [37/40], Step [400/480], Loss: 0.1496\n",
            "Epoch [38/40], Step [100/480], Loss: 0.0944\n",
            "Epoch [38/40], Step [200/480], Loss: 0.1532\n",
            "Epoch [38/40], Step [300/480], Loss: 0.1071\n",
            "Epoch [38/40], Step [400/480], Loss: 0.1690\n",
            "Epoch [39/40], Step [100/480], Loss: 0.1033\n",
            "Epoch [39/40], Step [200/480], Loss: 0.1330\n",
            "Epoch [39/40], Step [300/480], Loss: 0.1367\n",
            "Epoch [39/40], Step [400/480], Loss: 0.1127\n",
            "Epoch [40/40], Step [100/480], Loss: 0.2080\n",
            "Epoch [40/40], Step [200/480], Loss: 0.1121\n",
            "Epoch [40/40], Step [300/480], Loss: 0.0715\n",
            "Epoch [40/40], Step [400/480], Loss: 0.0745\n"
          ]
        },
        {
          "data": {
            "image/png": "[encoded data removed]",
            "text/plain": [
              "<Figure size 640x480 with 1 Axes>"
            ]
          },
          "metadata": {},
          "output_type": "display_data"
        },
        {
          "data": {
            "image/png": "[encoded data removed]",
            "text/plain": [
              "<Figure size 640x480 with 1 Axes>"
            ]
          },
          "metadata": {},
          "output_type": "display_data"
        }
      ],
      "source": [
        "nt = len(train_loader)\n",
        "nv = len(val_loader)\n",
        "best_val_loss = float('inf')\n",
        "best_model_path = 'model_weights.pth'\n",
        "val_accuracies = []\n",
        "val_losses = []\n",
        "train_loss = []\n",
        "\n",
        "\n",
        "for epoch in range(epochs):\n",
        "  trsloss = 0\n",
        "  for i,(images,labels) in enumerate(train_loader):\n",
        "    images = images.to(device)\n",
        "    labels = labels.to(device)\n",
        "    outputs = model(images)\n",
        "    loss = criterion(outputs,labels)\n",
        "    trsloss += loss.item()\n",
        "\n",
        "    loss.backward()\n",
        "    optimizer.step()\n",
        "    optimizer.zero_grad()\n",
        "    if (i+1)%100 == 0:\n",
        "      print(f'Epoch [{epoch+1}/{epochs}], Step [{i+1}/{nt}], Loss: {loss.item():.4f}')\n",
        "  train_loss.append(trsloss/len(train_loader))\n",
        "\n",
        "  #validation loop\n",
        "  with torch.no_grad():\n",
        "    nc = 0\n",
        "    ns = len(val_loader.dataset)\n",
        "    nv = len(val_loader)\n",
        "    lossval = 0\n",
        "    for images,labels in val_loader:\n",
        "      images = images.to(device)\n",
        "      labels = labels.to(device)\n",
        "      outputs = model(images)\n",
        "      lossval += criterion(outputs,labels).item()\n",
        "\n",
        "      _,predicted = torch.max(outputs.data,1)\n",
        "      nc += (predicted==labels).sum().item()\n",
        "\n",
        "\n",
        "    val_accuracies.append(100*nc/ns)\n",
        "    val_losses.append(lossval/nv)\n",
        "    val_loss = lossval/nv\n",
        "    if val_loss < best_val_loss: #save best model\n",
        "        best_val_loss = val_loss\n",
        "        torch.save(model.state_dict(), best_model_path)\n",
        "        print(f\"Saved best model at epoch {epoch} with val loss {val_loss:.4f}\")\n",
        "\n",
        "#plots loss and accuracy curves\n",
        "\n",
        "plt.plot(train_loss,label='Training Loss')\n",
        "plt.plot(val_losses,label='Validation Loss')\n",
        "plt.xlabel('Epochs')\n",
        "plt.ylabel('Loss')\n",
        "plt.legend()\n",
        "plt.show()\n",
        "\n",
        "\n",
        "plt.plot(val_accuracies,label='Validation Accuracy')\n",
        "plt.xlabel('Epochs')\n",
        "plt.ylabel('Accuracy')\n",
        "plt.legend()\n",
        "plt.show()\n"
      ]
    },
    {
      "cell_type": "code",
      "execution_count": null,
      "metadata": {
        "colab": {
          "base_uri": "https://localhost:8080/"
        },
        "id": "sxL1Wkpq4ZId",
        "outputId": "9c19c9dd-967f-4586-f817-21ac635d6f67"
      },
      "outputs": [
        {
          "name": "stdout",
          "output_type": "stream",
          "text": [
            "Accuracy over 10000 is  88.65\n"
          ]
        }
      ],
      "source": [
        "model = net().to(device)\n",
        "model.load_state_dict(torch.load('model_weights.pth'))\n",
        "with torch.no_grad():\n",
        "  nc = 0\n",
        "  ns = len(test_loader.dataset)\n",
        "  for images,labels in test_loader:\n",
        "      images = images.to(device)\n",
        "      labels = labels.to(device)\n",
        "\n",
        "      outs = model(images)\n",
        "\n",
        "      _,pred = torch.max(outs,1)\n",
        "      nc = nc + (pred == labels).sum().item()\n",
        "  print(\"Accuracy over\",ns ,\"is \", 100*nc/ns)"
      ]
    },
    {
      "cell_type": "code",
      "execution_count": null,
      "metadata": {
        "colab": {
          "base_uri": "https://localhost:8080/"
        },
        "id": "XXYyHXimwv9k",
        "outputId": "4678e429-9569-4cbf-ccdb-73303b525961"
      },
      "outputs": [],
      "source": []
    },
    {
      "cell_type": "code",
      "execution_count": null,
      "metadata": {
        "id": "Az1ybwb68A8o"
      },
      "outputs": [],
      "source": []
    }
  ],
  "metadata": {
    "accelerator": "GPU",
    "colab": {
      "gpuType": "T4",
      "provenance": []
    },
    "kernelspec": {
      "display_name": "Python 3",
      "name": "python3"
    },
    "language_info": {
      "codemirror_mode": {
        "name": "ipython",
        "version": 3
      },
      "file_extension": ".py",
      "mimetype": "text/x-python",
      "name": "python",
      "nbconvert_exporter": "python",
      "pygments_lexer": "ipython3",
      "version": "3.12.4"
    }
  },
  "nbformat": 4,
  "nbformat_minor": 0
}
